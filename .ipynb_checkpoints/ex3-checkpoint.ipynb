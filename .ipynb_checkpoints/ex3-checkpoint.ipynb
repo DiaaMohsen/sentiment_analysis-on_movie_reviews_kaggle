{
 "cells": [
  {
   "cell_type": "code",
   "execution_count": 3,
   "metadata": {
    "collapsed": true
   },
   "outputs": [],
   "source": [
    "import pandas as pd\n",
    "import re\n",
    "from nltk.corpus import stopwords\n",
    "from sklearn.metrics import accuracy_score\n",
    "from sklearn.metrics import precision_recall_fscore_support\n",
    "from sklearn.metrics import classification_report\n",
    "\n",
    "from sklearn.feature_extraction.text import CountVectorizer, TfidfVectorizer\n",
    "\n",
    "from sklearn import svm\n",
    "from sklearn.utils import shuffle\n",
    "from sklearn.model_selection import train_test_split\n",
    "from sklearn.naive_bayes import MultinomialNB\n",
    "\n",
    "from submit import submit"
   ]
  },
  {
   "cell_type": "code",
   "execution_count": 5,
   "metadata": {},
   "outputs": [
    {
     "name": "stdout",
     "output_type": "stream",
     "text": [
      "156060\n",
      "Index([u'PhraseId', u'SentenceId', u'Phrase', u'Sentiment'], dtype='object')\n"
     ]
    }
   ],
   "source": [
    "training_df = shuffle(pd.read_csv(\"train.tsv\", error_bad_lines=False , sep='\\t'))\n",
    "# training_df.columns = ['textID', '']\n",
    "print len(training_df)\n",
    "print training_df.keys()"
   ]
  },
  {
   "cell_type": "code",
   "execution_count": 6,
   "metadata": {},
   "outputs": [
    {
     "name": "stdout",
     "output_type": "stream",
     "text": [
      "Sentiment\n",
      "0     7072\n",
      "1    27273\n",
      "2    79582\n",
      "3    32927\n",
      "4     9206\n",
      "dtype: int64\n"
     ]
    }
   ],
   "source": [
    "print training_df.groupby(['Sentiment']).size()"
   ]
  },
  {
   "cell_type": "code",
   "execution_count": 7,
   "metadata": {
    "collapsed": true
   },
   "outputs": [],
   "source": [
    "def prepare_data_alittle(text):\n",
    "    return [re.sub('_|#|:|\\n|,|;|«|»|!|-|%|$|@|<|>|\\.|\\...',' ',t) for t in text]"
   ]
  },
  {
   "cell_type": "code",
   "execution_count": 8,
   "metadata": {},
   "outputs": [],
   "source": [
    "training_temp, testing_temp = train_test_split(training_df, train_size=.7)"
   ]
  },
  {
   "cell_type": "code",
   "execution_count": 9,
   "metadata": {
    "collapsed": true
   },
   "outputs": [],
   "source": [
    "X_train = prepare_data_alittle(training_temp['Phrase'].tolist())\n",
    "X_test = prepare_data_alittle(testing_temp['Phrase'].tolist())\n",
    "Y_train = training_temp['Sentiment'].tolist()\n",
    "Y_test = testing_temp['Sentiment'].tolist()"
   ]
  },
  {
   "cell_type": "code",
   "execution_count": 10,
   "metadata": {
    "collapsed": true
   },
   "outputs": [],
   "source": [
    "countVec = CountVectorizer(ngram_range=(1,3), stop_words = list(set(stopwords.words(\"english\")) ))"
   ]
  },
  {
   "cell_type": "code",
   "execution_count": 11,
   "metadata": {
    "collapsed": true
   },
   "outputs": [],
   "source": [
    "tr_features = countVec.fit_transform(X_train)"
   ]
  },
  {
   "cell_type": "code",
   "execution_count": 12,
   "metadata": {},
   "outputs": [
    {
     "name": "stdout",
     "output_type": "stream",
     "text": [
      "CPU times: user 0 ns, sys: 0 ns, total: 0 ns\n",
      "Wall time: 18.1 µs\n"
     ]
    }
   ],
   "source": [
    "%%time\n",
    "model = MultinomialNB()"
   ]
  },
  {
   "cell_type": "code",
   "execution_count": 13,
   "metadata": {},
   "outputs": [
    {
     "name": "stdout",
     "output_type": "stream",
     "text": [
      "CPU times: user 104 ms, sys: 4 ms, total: 108 ms\n",
      "Wall time: 118 ms\n"
     ]
    }
   ],
   "source": [
    "%%time\n",
    "model = model.fit(tr_features, Y_train)"
   ]
  },
  {
   "cell_type": "code",
   "execution_count": 14,
   "metadata": {
    "collapsed": true
   },
   "outputs": [],
   "source": [
    "te_features = countVec.transform(X_test)"
   ]
  },
  {
   "cell_type": "code",
   "execution_count": 15,
   "metadata": {
    "collapsed": true
   },
   "outputs": [],
   "source": [
    "lsvm_r = model.predict(te_features)"
   ]
  },
  {
   "cell_type": "code",
   "execution_count": 16,
   "metadata": {},
   "outputs": [
    {
     "name": "stdout",
     "output_type": "stream",
     "text": [
      "[1, 2, 3, 2, 3, 0, 2, 1, 3, 2]\n",
      "[1, 2, 4, 2, 3, 1, 2, 2, 3, 2]\n"
     ]
    }
   ],
   "source": [
    "print lsvm_r.tolist()[:10]\n",
    "print Y_test[:10]"
   ]
  },
  {
   "cell_type": "code",
   "execution_count": 17,
   "metadata": {},
   "outputs": [
    {
     "name": "stdout",
     "output_type": "stream",
     "text": [
      "                   precision    recall  f1-score   support\n",
      "\n",
      "         negative       0.39      0.45      0.42      2078\n",
      "somewhat negative       0.48      0.47      0.47      8158\n",
      "          neutral       0.73      0.72      0.72     23982\n",
      "somewhat positive       0.51      0.52      0.51      9788\n",
      "         positive       0.44      0.45      0.45      2812\n",
      "\n",
      "      avg / total       0.61      0.60      0.61     46818\n",
      "\n",
      "accuracy :  0.604147977274\n"
     ]
    }
   ],
   "source": [
    "report = classification_report(Y_test, lsvm_r.tolist(), target_names=[\"negative\", \"somewhat negative\", \"neutral\", \"somewhat positive\", \"positive\"])\n",
    "print(report)\n",
    "\n",
    "\n",
    "print 'accuracy : ' , accuracy_score(Y_test, lsvm_r.tolist())"
   ]
  },
  {
   "cell_type": "code",
   "execution_count": null,
   "metadata": {
    "collapsed": true
   },
   "outputs": [],
   "source": [
    "#                    precision    recall  f1-score   support\n",
    "\n",
    "#          negative       0.37      0.40      0.38      2086\n",
    "# somewhat negative       0.48      0.47      0.48      8239\n",
    "#           neutral       0.72      0.72      0.72     23826\n",
    "# somewhat positive       0.51      0.52      0.52      9883\n",
    "#          positive       0.45      0.44      0.44      2784\n",
    "\n",
    "#       avg / total       0.60      0.60      0.60     46818\n",
    "\n",
    "# accuracy :  0.603208167799"
   ]
  },
  {
   "cell_type": "code",
   "execution_count": 15,
   "metadata": {
    "collapsed": true
   },
   "outputs": [],
   "source": [
    "submit(model, countVec, \"MultinomialNB_CVec_without_downsampling\")"
   ]
  }
 ],
 "metadata": {
  "kernelspec": {
   "display_name": "Python 2",
   "language": "python",
   "name": "python2"
  },
  "language_info": {
   "codemirror_mode": {
    "name": "ipython",
    "version": 2
   },
   "file_extension": ".py",
   "mimetype": "text/x-python",
   "name": "python",
   "nbconvert_exporter": "python",
   "pygments_lexer": "ipython2",
   "version": "2.7.13"
  }
 },
 "nbformat": 4,
 "nbformat_minor": 2
}
